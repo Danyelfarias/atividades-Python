{
 "cells": [
  {
   "cell_type": "markdown",
   "metadata": {},
   "source": [
    "Abra a planilha de alunos, identifique os alunos com média superior a 7.0 e salve esses alunos em uma nova planilha chamada \"alunos_destaque.xlsx\"."
   ]
  },
  {
   "cell_type": "code",
   "execution_count": 10,
   "metadata": {},
   "outputs": [],
   "source": [
    "import openpyxl as px\n",
    "\n",
    "arquivo = px.load_workbook('alunos.xlsx')\n",
    "aba_aprovados = arquivo.create_sheet('alunos_aprovados')\n",
    "\n",
    "aba_ativa = arquivo.active\n",
    "coluna_e = aba_ativa['E']\n",
    "\n",
    "for cell in coluna_e:\n",
    "    if cell.value == 'aprovado':\n",
    "        n_linha = cell.row\n",
    "        linha_branco = aba_aprovados.max_row + 1\n",
    "        for col in range(1, aba_ativa.max_column + 1):\n",
    "            aba_aprovados.cell(row=linha_branco, column=col, value=aba_ativa.cell(row=n_linha, column=col).value)\n",
    "\n",
    "arquivo.save('alunos.xlsx')\n",
    "\n",
    "\n"
   ]
  },
  {
   "cell_type": "code",
   "execution_count": null,
   "metadata": {},
   "outputs": [],
   "source": [
    "# outra forma de fazer essa memsa ideia \n",
    "import openpyxl as px\n",
    "\n",
    "arquivo = px.load_workbook('alunos.xlsx')\n",
    "aba_aprovados = arquivo.create_sheet('alunos_aprovados')\n",
    "\n",
    "aba_ativa = arquivo.active\n",
    "coluna_e = aba_ativa['E']\n",
    "\n",
    "# Lista para armazenar os dados dos alunos aprovados\n",
    "dados_aprovados = []\n",
    "\n",
    "for cell in coluna_e:\n",
    "    if cell.value == 'aprovado':\n",
    "        n_linha = cell.row\n",
    "        linha_dados = []\n",
    "        for col in range(1, aba_ativa.max_column + 1):\n",
    "            # Adiciona o valor da célula à lista de dados da linha atual\n",
    "            linha_dados.append(aba_ativa.cell(row=n_linha, column=col).value)\n",
    "        # Adiciona a lista de dados da linha atual à lista de dados dos alunos aprovados\n",
    "        dados_aprovados.append(linha_dados)\n",
    "\n",
    "# Adiciona todos os dados dos alunos aprovados à planilha de destino de uma vez\n",
    "for linha in dados_aprovados:\n",
    "    aba_aprovados.append(linha)\n",
    "\n",
    "# Salva as alterações no arquivo Excel\n",
    "arquivo.save('alunos.xlsx')\n"
   ]
  },
  {
   "cell_type": "markdown",
   "metadata": {},
   "source": [
    "Como escolher aba "
   ]
  },
  {
   "cell_type": "code",
   "execution_count": null,
   "metadata": {},
   "outputs": [],
   "source": [
    "import openpyxl\n",
    "\n",
    "# Abre o arquivo Excel\n",
    "workbook = openpyxl.load_workbook('arquivo.xlsx')\n",
    "\n",
    "# Lista de nomes de todas as abas\n",
    "lista_abas = workbook.sheetnames\n",
    "\n",
    "# Seleciona a primeira aba pelo nome\n",
    "primeira_aba = workbook[lista_abas[0]]\n",
    "\n",
    "# Seleciona a segunda aba pelo nome\n",
    "segunda_aba = workbook[lista_abas[1]]\n",
    "\n",
    "# Seleciona a terceira aba pelo nome\n",
    "terceira_aba = workbook[lista_abas[2]]"
   ]
  }
 ],
 "metadata": {
  "kernelspec": {
   "display_name": "Python 3",
   "language": "python",
   "name": "python3"
  },
  "language_info": {
   "codemirror_mode": {
    "name": "ipython",
    "version": 3
   },
   "file_extension": ".py",
   "mimetype": "text/x-python",
   "name": "python",
   "nbconvert_exporter": "python",
   "pygments_lexer": "ipython3",
   "version": "3.10.11"
  }
 },
 "nbformat": 4,
 "nbformat_minor": 2
}
