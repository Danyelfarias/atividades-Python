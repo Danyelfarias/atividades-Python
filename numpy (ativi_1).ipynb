{
 "cells": [
  {
   "cell_type": "markdown",
   "metadata": {},
   "source": [
    "Numpy"
   ]
  },
  {
   "cell_type": "markdown",
   "metadata": {},
   "source": [
    "1.\tCriar um array NumPy de uma dimensão com 10 zeros.\n",
    "2.\tModificar o array anterior, alterando o quinto valor para 1.\n",
    "3.\tCriar um array NumPy com valores de 10 a 49.\n",
    "4.\tInverter a ordem dos elementos no array criado na questão 3.\n",
    "5.\tEncontrar os índices dos elementos não-nulos de [3, 0, 4, 0, 5, 7].\n"
   ]
  },
  {
   "cell_type": "code",
   "execution_count": 9,
   "metadata": {},
   "outputs": [
    {
     "data": {
      "text/plain": [
       "array([1, 7, 6, 4, 4, 8, 1, 7, 2, 1], dtype=int64)"
      ]
     },
     "metadata": {},
     "output_type": "display_data"
    },
    {
     "data": {
      "text/plain": [
       "array([1, 7, 6, 4, 1, 8, 1, 7, 2, 1], dtype=int64)"
      ]
     },
     "metadata": {},
     "output_type": "display_data"
    },
    {
     "data": {
      "text/plain": [
       "array([13, 40, 35, 27, 26, 43, 13, 37, 17, 13], dtype=int64)"
      ]
     },
     "metadata": {},
     "output_type": "display_data"
    },
    {
     "name": "stdout",
     "output_type": "stream",
     "text": [
      "[3 0 4 0 5 7]\n"
     ]
    },
    {
     "data": {
      "text/plain": [
       "(array([0, 2, 4, 5], dtype=int64),)"
      ]
     },
     "execution_count": 9,
     "metadata": {},
     "output_type": "execute_result"
    }
   ],
   "source": [
    "#1\n",
    "import numpy as np \n",
    "rng = np.random.default_rng(seed=42)\n",
    "dados_amostra = rng.integers(low=1, high=10, size= 10)\n",
    "display(dados_amostra)\n",
    "# 2\n",
    "dados_amostra[4]=1\n",
    "display(dados_amostra)\n",
    "# 3\n",
    "rng2 = np.random.default_rng(seed=42)\n",
    "dados_amostra2 = rng2.integers(low=10, high=49, size= 10)\n",
    "display(dados_amostra2)\n",
    "\n",
    "# 4 \n",
    "\n",
    "dados_amostra3= np.flip(dados_amostra2) #INVERTER A LISTA\n",
    "dados_amostra3\n",
    "\n",
    "# 5\n",
    "Lista_ati= np.array([3, 0, 4, 0, 5, 7])\n",
    "print(Lista_ati)\n",
    "nao_nulos = np.nonzero(Lista_ati)#devolve o index dos numero diferente de zero\n",
    "nao_nulos\n"
   ]
  },
  {
   "cell_type": "code",
   "execution_count": 2,
   "metadata": {},
   "outputs": [
    {
     "data": {
      "text/plain": [
       "array([1, 7, 6, 4, 4, 8, 1, 7, 2, 1], dtype=int64)"
      ]
     },
     "metadata": {},
     "output_type": "display_data"
    },
    {
     "data": {
      "text/plain": [
       "8"
      ]
     },
     "metadata": {},
     "output_type": "display_data"
    },
    {
     "data": {
      "text/plain": [
       "5"
      ]
     },
     "execution_count": 2,
     "metadata": {},
     "output_type": "execute_result"
    }
   ],
   "source": [
    "import numpy as np\n",
    "\n",
    "rng = np.random.default_rng(seed=42)\n",
    "dados_vendas = rng.integers(low=1 ,high=10,size=10)\n",
    "display(dados_vendas)\n",
    "numero_maior = np.argmax(dados_vendas) #pega o index do maior numero do array\n",
    "\n",
    "display(dados_vendas[5])\n",
    "numero_maior"
   ]
  },
  {
   "cell_type": "markdown",
   "metadata": {},
   "source": [
    "6.\tCriar uma matriz 3x3 com valores de 0 a 8.\n",
    "7.\tEncontrar os valores mínimo e máximo de um array criado com números aleatórios de tamanho 10."
   ]
  },
  {
   "cell_type": "code",
   "execution_count": 3,
   "metadata": {},
   "outputs": [
    {
     "data": {
      "text/plain": [
       "array([[0, 6, 5],\n",
       "       [3, 3, 6],\n",
       "       [0, 5, 1]], dtype=int64)"
      ]
     },
     "metadata": {},
     "output_type": "display_data"
    },
    {
     "data": {
      "text/plain": [
       "array([[0, 6, 5],\n",
       "       [3, 3, 6],\n",
       "       [0, 5, 1]], dtype=int64)"
      ]
     },
     "metadata": {},
     "output_type": "display_data"
    },
    {
     "name": "stdout",
     "output_type": "stream",
     "text": [
      "2\n",
      "[ 4 26 48 36 38 35 39 25  6 41]\n"
     ]
    }
   ],
   "source": [
    "# 6\n",
    "rng = np.random.default_rng(seed=42)\n",
    "numero_lista = rng.integers(low=0, high=8 , size=9 )\n",
    "\n",
    "lista_3_3_1 = numero_lista.reshape(3,3) #tem essa forma de fazer \n",
    "display(lista_3_3_1)\n",
    "lista_3_3 = np.reshape(numero_lista, (3,3)) # e tem essa forma tb\n",
    "display(lista_3_3)\n",
    "\n",
    "# 7\n",
    "\n",
    "numero_lista_2 = rng.integers(low=0, high=50 , size=10 )\n",
    "\n",
    "\n",
    "maior_numero_lista = np.argmax(numero_lista_2) #devolve o index\n",
    "print(maior_numero_lista)\n",
    "print(numero_lista_2)\n",
    "\n",
    "\n"
   ]
  },
  {
   "cell_type": "markdown",
   "metadata": {},
   "source": [
    "8.\tNormalizar um array de 5x5 aleatório para que os valores variem de 0 a 1. (Normalizar significa subtrair o mínimo e dividir pela diferença entre o máximo e o mínimo).\n",
    "9.\tMultiplicar uma matriz 5x3 por uma matriz 3x2.\n",
    "10.\tSubtrair a média de cada linha de uma matriz."
   ]
  },
  {
   "cell_type": "code",
   "execution_count": 8,
   "metadata": {},
   "outputs": [
    {
     "name": "stdout",
     "output_type": "stream",
     "text": [
      "Array original:\n",
      "[[0.25623446 0.20607564 0.9151056  0.06831485 0.03949145]\n",
      " [0.17046481 0.55306982 0.97325881 0.712017   0.0264795 ]\n",
      " [0.05322267 0.4694858  0.07226124 0.62977165 0.71342178]\n",
      " [0.30241687 0.85857449 0.52821847 0.81126272 0.18529585]\n",
      " [0.27996087 0.51635138 0.52953007 0.37607603 0.44007347]]\n",
      "\n",
      "Array normalizado:\n",
      "[[0.24267003 0.18969166 0.93857786 0.04418702 0.01374339]\n",
      " [0.15207906 0.5561912  1.         0.72407317 0.        ]\n",
      " [0.02824646 0.46790872 0.04835523 0.63720462 0.72555692]\n",
      " [0.29144846 0.878869   0.52994289 0.82889773 0.16774379]\n",
      " [0.26773015 0.51740873 0.53132822 0.36924817 0.43684306]]\n"
     ]
    }
   ],
   "source": [
    "# 8\n",
    "\n",
    "import numpy as np\n",
    "\n",
    "# Criar um array aleatório de 5x5\n",
    "array_aleatorio = np.random.rand(5, 5)\n",
    "\n",
    "# Encontrar o valor mínimo e máximo do array\n",
    "valor_minimo = array_aleatorio.min()\n",
    "valor_maximo = array_aleatorio.max()\n",
    "\n",
    "# Normalizar o array\n",
    "array_normalizado = (array_aleatorio - valor_minimo) / (valor_maximo - valor_minimo)\n",
    "\n",
    "print(\"Array original:\")\n",
    "print(array_aleatorio)\n",
    "print(\"\\nArray normalizado:\")\n",
    "print(array_normalizado)\n"
   ]
  },
  {
   "cell_type": "code",
   "execution_count": 5,
   "metadata": {},
   "outputs": [
    {
     "data": {
      "text/plain": [
       "array([[0.8320081 , 0.63905166],\n",
       "       [0.66236713, 0.49425132],\n",
       "       [1.19063793, 0.90757751],\n",
       "       [0.69150692, 0.51767333],\n",
       "       [0.67008846, 0.55905636]])"
      ]
     },
     "execution_count": 5,
     "metadata": {},
     "output_type": "execute_result"
    }
   ],
   "source": [
    "array_aleatorio1 = np.random.rand(5, 3)\n",
    "array_aleatorio2 = np.random.rand(3, 2)\n",
    "\n",
    "multiplca = np.dot(array_aleatorio1,array_aleatorio2)# multiplcaçoa de matrizes\n",
    "multiplca"
   ]
  },
  {
   "cell_type": "code",
   "execution_count": 6,
   "metadata": {},
   "outputs": [
    {
     "data": {
      "text/plain": [
       "array([ 6, 54, 45, 30, 30, 60,  6, 48, 14], dtype=int64)"
      ]
     },
     "execution_count": 6,
     "metadata": {},
     "output_type": "execute_result"
    }
   ],
   "source": [
    "import numpy as np\n",
    "\n",
    "rng = np.random.default_rng(seed=42)\n",
    "numero_lista = rng.integers(low=0, high=70 , size=9 )\n",
    "numero_lista\n",
    "\n",
    "\n"
   ]
  }
 ],
 "metadata": {
  "kernelspec": {
   "display_name": "Python 3",
   "language": "python",
   "name": "python3"
  },
  "language_info": {
   "codemirror_mode": {
    "name": "ipython",
    "version": 3
   },
   "file_extension": ".py",
   "mimetype": "text/x-python",
   "name": "python",
   "nbconvert_exporter": "python",
   "pygments_lexer": "ipython3",
   "version": "3.10.11"
  }
 },
 "nbformat": 4,
 "nbformat_minor": 2
}
