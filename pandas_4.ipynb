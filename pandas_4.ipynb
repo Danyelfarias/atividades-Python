{
 "cells": [
  {
   "cell_type": "code",
   "execution_count": 32,
   "metadata": {},
   "outputs": [
    {
     "name": "stdout",
     "output_type": "stream",
     "text": [
      "Número de clientes distintos: 167\n",
      "\n",
      "Contagem de clientes por estado civil e se possuem carro ou não:\n",
      "Estado civil   Possui Carro?\n",
      "Casado         NÃO              50\n",
      "               SIM              84\n",
      "Solteiro       NÃO              14\n",
      "União estavel  NÃO              19\n",
      "Name: id_clientes, dtype: int64\n"
     ]
    }
   ],
   "source": [
    "import pandas as pd\n",
    "\n",
    "# Carregar o arquivo Excel\n",
    "caminho = r\"C:\\Users\\FARIAS\\Documents\\3. Danyel\\Base teste pandas.xlsx\"\n",
    "Base_principal = pd.read_excel(caminho, engine=\"openpyxl\")\n",
    "\n",
    "# Contagem de clientes distintos\n",
    "clientes_distintos = Base_principal[\"id_clientes\"].nunique()\n",
    "\n",
    "print(\"Número de clientes distintos:\", clientes_distintos)\n",
    "\n",
    "# Contagem de clientes por estado civil e se possuem carro ou não\n",
    "contagem_por_estado_civil_e_carro = Base_principal.groupby(['Estado civil', 'Possui Carro?'])['id_clientes'].nunique()\n",
    "\n",
    "print(\"\\nContagem de clientes por estado civil e se possuem carro ou não:\")\n",
    "print(contagem_por_estado_civil_e_carro)\n"
   ]
  },
  {
   "cell_type": "code",
   "execution_count": 34,
   "metadata": {},
   "outputs": [
    {
     "name": "stdout",
     "output_type": "stream",
     "text": [
      "Número de clientes distintos: 167\n",
      "\n",
      "Contagem de clientes por estado civil e se possuem carro ou não:\n",
      "Estado civil   Possui Carro?\n",
      "Casado         NÃO              50\n",
      "               SIM              84\n",
      "Solteiro       NÃO              14\n",
      "União estavel  NÃO              19\n",
      "Name: id_clientes, dtype: int64\n",
      "\n",
      "Percentual de clientes por estado civil e se possuem carro ou não:\n",
      "Estado civil   Possui Carro?\n",
      "Casado         NÃO               37.313433\n",
      "               SIM               62.686567\n",
      "Solteiro       NÃO              100.000000\n",
      "União estavel  NÃO              100.000000\n",
      "Name: id_clientes, dtype: float64\n"
     ]
    },
    {
     "name": "stderr",
     "output_type": "stream",
     "text": [
      "C:\\Users\\FARIAS\\AppData\\Local\\Temp\\ipykernel_22428\\163737641.py:19: FutureWarning: Using the level keyword in DataFrame and Series aggregations is deprecated and will be removed in a future version. Use groupby instead. df.sum(level=1) should use df.groupby(level=1).sum().\n",
      "  total_clientes = contagem_por_estado_civil_e_carro.sum(level=0)  # Soma total de clientes por estado civil\n"
     ]
    }
   ],
   "source": [
    "import pandas as pd\n",
    "\n",
    "# Carregar o arquivo Excel\n",
    "caminho = r\"C:\\Users\\FARIAS\\Documents\\3. Danyel\\Base teste pandas.xlsx\"\n",
    "Base_principal = pd.read_excel(caminho, engine=\"openpyxl\")\n",
    "\n",
    "# Contagem de clientes distintos\n",
    "clientes_distintos = Base_principal[\"id_clientes\"].nunique()\n",
    "\n",
    "print(\"Número de clientes distintos:\", clientes_distintos)\n",
    "\n",
    "# Contagem de clientes por estado civil e se possuem carro ou não\n",
    "contagem_por_estado_civil_e_carro = Base_principal.groupby(['Estado civil', 'Possui Carro?'])['id_clientes'].nunique()\n",
    "                                                            #colunas de agregação  ,          colunade cliente sendo contads distintamente.\n",
    "print(\"\\nContagem de clientes por estado civil e se possuem carro ou não:\")\n",
    "print(contagem_por_estado_civil_e_carro)\n",
    "\n",
    "# Calcular percentual\n",
    "total_clientes = contagem_por_estado_civil_e_carro.sum(level=0)  # Soma total de clientes por estado civil\n",
    "percentual_por_estado_civil_e_carro = (contagem_por_estado_civil_e_carro / total_clientes) * 100\n",
    "\n",
    "print(\"\\nPercentual de clientes por estado civil e se possuem carro ou não:\")\n",
    "print(percentual_por_estado_civil_e_carro)\n",
    "\n"
   ]
  },
  {
   "cell_type": "code",
   "execution_count": 39,
   "metadata": {},
   "outputs": [
    {
     "ename": "KeyError",
     "evalue": "'Column not found: Salario'",
     "output_type": "error",
     "traceback": [
      "\u001b[1;31m---------------------------------------------------------------------------\u001b[0m",
      "\u001b[1;31mKeyError\u001b[0m                                  Traceback (most recent call last)",
      "Cell \u001b[1;32mIn[39], line 5\u001b[0m\n\u001b[0;32m      3\u001b[0m base_clientes \u001b[38;5;241m=\u001b[39m Base_principal[\u001b[38;5;124m'\u001b[39m\u001b[38;5;124mid_clientes\u001b[39m\u001b[38;5;124m'\u001b[39m]\u001b[38;5;241m.\u001b[39mnunique()\n\u001b[0;32m      4\u001b[0m Base_principal[\u001b[38;5;124m'\u001b[39m\u001b[38;5;124mid_clientes\u001b[39m\u001b[38;5;124m'\u001b[39m]\n\u001b[1;32m----> 5\u001b[0m \u001b[43mBase_principal\u001b[49m\u001b[38;5;241;43m.\u001b[39;49m\u001b[43mgroupby\u001b[49m\u001b[43m(\u001b[49m\u001b[43m[\u001b[49m\u001b[38;5;124;43m'\u001b[39;49m\u001b[38;5;124;43mid_clientes\u001b[39;49m\u001b[38;5;124;43m'\u001b[39;49m\u001b[43m,\u001b[49m\u001b[38;5;124;43m'\u001b[39;49m\u001b[38;5;124;43midade\u001b[39;49m\u001b[38;5;124;43m'\u001b[39;49m\u001b[43m]\u001b[49m\u001b[43m)\u001b[49m\u001b[43m[\u001b[49m\u001b[38;5;124;43m'\u001b[39;49m\u001b[38;5;124;43mSalario\u001b[39;49m\u001b[38;5;124;43m'\u001b[39;49m\u001b[43m]\u001b[49m\u001b[38;5;241m.\u001b[39mnunique()\n",
      "File \u001b[1;32m~\\AppData\\Local\\Packages\\PythonSoftwareFoundation.Python.3.10_qbz5n2kfra8p0\\LocalCache\\local-packages\\Python310\\site-packages\\pandas\\core\\groupby\\generic.py:1415\u001b[0m, in \u001b[0;36mDataFrameGroupBy.__getitem__\u001b[1;34m(self, key)\u001b[0m\n\u001b[0;32m   1406\u001b[0m \u001b[38;5;28;01mif\u001b[39;00m \u001b[38;5;28misinstance\u001b[39m(key, \u001b[38;5;28mtuple\u001b[39m) \u001b[38;5;129;01mand\u001b[39;00m \u001b[38;5;28mlen\u001b[39m(key) \u001b[38;5;241m>\u001b[39m \u001b[38;5;241m1\u001b[39m:\n\u001b[0;32m   1407\u001b[0m     \u001b[38;5;66;03m# if len == 1, then it becomes a SeriesGroupBy and this is actually\u001b[39;00m\n\u001b[0;32m   1408\u001b[0m     \u001b[38;5;66;03m# valid syntax, so don't raise warning\u001b[39;00m\n\u001b[0;32m   1409\u001b[0m     warnings\u001b[38;5;241m.\u001b[39mwarn(\n\u001b[0;32m   1410\u001b[0m         \u001b[38;5;124m\"\u001b[39m\u001b[38;5;124mIndexing with multiple keys (implicitly converted to a tuple \u001b[39m\u001b[38;5;124m\"\u001b[39m\n\u001b[0;32m   1411\u001b[0m         \u001b[38;5;124m\"\u001b[39m\u001b[38;5;124mof keys) will be deprecated, use a list instead.\u001b[39m\u001b[38;5;124m\"\u001b[39m,\n\u001b[0;32m   1412\u001b[0m         \u001b[38;5;167;01mFutureWarning\u001b[39;00m,\n\u001b[0;32m   1413\u001b[0m         stacklevel\u001b[38;5;241m=\u001b[39mfind_stack_level(),\n\u001b[0;32m   1414\u001b[0m     )\n\u001b[1;32m-> 1415\u001b[0m \u001b[38;5;28;01mreturn\u001b[39;00m \u001b[38;5;28;43msuper\u001b[39;49m\u001b[43m(\u001b[49m\u001b[43m)\u001b[49m\u001b[38;5;241;43m.\u001b[39;49m\u001b[38;5;21;43m__getitem__\u001b[39;49m\u001b[43m(\u001b[49m\u001b[43mkey\u001b[49m\u001b[43m)\u001b[49m\n",
      "File \u001b[1;32m~\\AppData\\Local\\Packages\\PythonSoftwareFoundation.Python.3.10_qbz5n2kfra8p0\\LocalCache\\local-packages\\Python310\\site-packages\\pandas\\core\\base.py:248\u001b[0m, in \u001b[0;36mSelectionMixin.__getitem__\u001b[1;34m(self, key)\u001b[0m\n\u001b[0;32m    246\u001b[0m \u001b[38;5;28;01melse\u001b[39;00m:\n\u001b[0;32m    247\u001b[0m     \u001b[38;5;28;01mif\u001b[39;00m key \u001b[38;5;129;01mnot\u001b[39;00m \u001b[38;5;129;01min\u001b[39;00m \u001b[38;5;28mself\u001b[39m\u001b[38;5;241m.\u001b[39mobj:\n\u001b[1;32m--> 248\u001b[0m         \u001b[38;5;28;01mraise\u001b[39;00m \u001b[38;5;167;01mKeyError\u001b[39;00m(\u001b[38;5;124mf\u001b[39m\u001b[38;5;124m\"\u001b[39m\u001b[38;5;124mColumn not found: \u001b[39m\u001b[38;5;132;01m{\u001b[39;00mkey\u001b[38;5;132;01m}\u001b[39;00m\u001b[38;5;124m\"\u001b[39m)\n\u001b[0;32m    249\u001b[0m     subset \u001b[38;5;241m=\u001b[39m \u001b[38;5;28mself\u001b[39m\u001b[38;5;241m.\u001b[39mobj[key]\n\u001b[0;32m    250\u001b[0m     ndim \u001b[38;5;241m=\u001b[39m subset\u001b[38;5;241m.\u001b[39mndim\n",
      "\u001b[1;31mKeyError\u001b[0m: 'Column not found: Salario'"
     ]
    }
   ],
   "source": [
    "Base_principal\n",
    "\n",
    "base_clientes = Base_principal['id_clientes'].nunique()\n",
    "Base_principal['id_clientes']\n",
    "Base_principal.groupby(['id_clientes','idade'])['Salario'].nunique()"
   ]
  }
 ],
 "metadata": {
  "kernelspec": {
   "display_name": "Python 3",
   "language": "python",
   "name": "python3"
  },
  "language_info": {
   "codemirror_mode": {
    "name": "ipython",
    "version": 3
   },
   "file_extension": ".py",
   "mimetype": "text/x-python",
   "name": "python",
   "nbconvert_exporter": "python",
   "pygments_lexer": "ipython3",
   "version": "3.10.11"
  }
 },
 "nbformat": 4,
 "nbformat_minor": 2
}
