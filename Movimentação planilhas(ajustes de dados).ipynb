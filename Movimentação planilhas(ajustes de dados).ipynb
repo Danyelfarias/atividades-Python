{
 "cells": [
  {
   "cell_type": "markdown",
   "metadata": {},
   "source": [
    "Crie uma função que, dada uma planilha com dados de alunos (Nome, Nota1, Nota2), calcule a média das notas de cada aluno e adicione uma nova coluna chamada \"Média\" na planilha."
   ]
  },
  {
   "cell_type": "code",
   "execution_count": 21,
   "metadata": {},
   "outputs": [],
   "source": [
    "def aprovacao(nome, nota1,nota2):\n",
    "    import openpyxl as px\n",
    "    arquivo = px.Workbook()\n",
    "    p1= arquivo.active\n",
    "    lista = [(nome, nota1, nota2)]\n",
    "    p1['a1']='Nome'\n",
    "    p1['b1']='nota 1'\n",
    "    p1['c1']='nota 2'\n",
    "    p1['d1']='Media'\n",
    "    p1['e1']='status'\n",
    "\n",
    "    for i, termo in enumerate(lista):\n",
    "        p1[f'a{i+1}']= nome\n",
    "        p1[f'b{i+1}']= nota1\n",
    "        p1[f'c{i+1}']= nota2\n",
    "        p1[f'd{i+1}']= (nota1 +nota2)/2\n",
    "        if p1[f'd{i+1}'].value >5:\n",
    "            p1[f'e{i+1}']= 'aprovado'\n",
    "        else:\n",
    "            p1[f'e{i+1}']= 'raprovado'\n",
    "\n",
    "    arquivo.save('alunos.xlsx')\n",
    "\n",
    "\n",
    "\n",
    "\n",
    "\n",
    "\n",
    "inputs = lambda: map(input, ['Nome: ', 'Nota 1: ', 'Nota 2: '])\n",
    "\n",
    "# Recebendo os inputs\n",
    "nome, nota1, nota2 = inputs()\n",
    "nota1 = int(nota1)\n",
    "nota2 = int(nota2)\n",
    "aprovacao(nome,nota1,nota2)"
   ]
  },
  {
   "cell_type": "markdown",
   "metadata": {},
   "source": [
    "Versão chat gpt"
   ]
  },
  {
   "cell_type": "code",
   "execution_count": 28,
   "metadata": {},
   "outputs": [],
   "source": [
    "import openpyxl as px\n",
    "\n",
    "def aprovacao(nome, nota1, nota2):\n",
    "    try:\n",
    "        arquivo = px.load_workbook('alunos.xlsx')\n",
    "    except FileNotFoundError:\n",
    "        arquivo = px.Workbook()\n",
    "\n",
    "    p1 = arquivo.active\n",
    "    \n",
    "    # Encontra a última linha preenchida na coluna 'A'\n",
    "    last_row = p1.max_row + 1\n",
    "\n",
    "    # Insere os novos dados na próxima linha\n",
    "    p1[f'a{last_row}'] = nome\n",
    "    p1[f'b{last_row}'] = nota1\n",
    "    p1[f'c{last_row}'] = nota2\n",
    "    p1[f'd{last_row}'] = (nota1 + nota2) / 2\n",
    "    if (nota1 + nota2) / 2 > 5:\n",
    "        p1[f'e{last_row}'] = 'aprovado'\n",
    "    else:\n",
    "        p1[f'e{last_row}'] = 'reprovado'\n",
    "\n",
    "    arquivo.save('alunos.xlsx')\n",
    "\n",
    "inputs = lambda: map(input, ['Nome: ', 'Nota 1: ', 'Nota 2: '])\n",
    "\n",
    "# Recebendo os inputs\n",
    "nome, nota1, nota2 = inputs()\n",
    "nota1 = int(nota1)\n",
    "nota2 = int(nota2)\n",
    "aprovacao(nome, nota1, nota2)\n"
   ]
  }
 ],
 "metadata": {
  "kernelspec": {
   "display_name": "Python 3",
   "language": "python",
   "name": "python3"
  },
  "language_info": {
   "codemirror_mode": {
    "name": "ipython",
    "version": 3
   },
   "file_extension": ".py",
   "mimetype": "text/x-python",
   "name": "python",
   "nbconvert_exporter": "python",
   "pygments_lexer": "ipython3",
   "version": "3.10.11"
  }
 },
 "nbformat": 4,
 "nbformat_minor": 2
}
